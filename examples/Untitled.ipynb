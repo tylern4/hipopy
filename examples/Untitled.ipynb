{
 "cells": [
  {
   "cell_type": "code",
   "execution_count": 1,
   "metadata": {},
   "outputs": [
    {
     "name": "stdout",
     "output_type": "stream",
     "text": [
      "Welcome to JupyROOT 6.15/01\n"
     ]
    }
   ],
   "source": [
    "%matplotlib inline\n",
    "from __future__ import print_function\n",
    "import sys\n",
    "import time\n",
    "import glob\n",
    "\n",
    "import matplotlib.animation as animation\n",
    "import matplotlib.pyplot as plt\n",
    "import numpy as np\n",
    "from matplotlib import style\n",
    "\n",
    "from hipopy import Event, LorentzVector, Particle, hipo_reader\n",
    "from ROOT import TLorentzVector\n",
    "\n",
    "#style.use('fivethirtyeight')"
   ]
  },
  {
   "cell_type": "code",
   "execution_count": null,
   "metadata": {
    "scrolled": false
   },
   "outputs": [],
   "source": [
    "start = time.time()\n",
    "i = 0\n",
    "momentum = []\n",
    "sf = []\n",
    "files = glob.glob(\"/Users/tylern/Data/hipo/dst/out_clas_002391*.hipo\")\n",
    "for f in files[0]:\n",
    "    print(f)\n",
    "    reader = hipo_reader(f)\n",
    "    data = Event(reader)\n",
    "    for event in data:\n",
    "        i += 1\n",
    "        if len(event) == 0:\n",
    "            continue\n",
    "        if(event.ec[0][3] > 0.01 and event.particles[0].pid != 11):\n",
    "            momentum.append(event.particles[0].P)\n",
    "            sf.append(event.ec[0][3] / event.particles[0].P)\n",
    "\n",
    "mom = np.array(momentum)\n",
    "s = np.array(sf)\n",
    "del momentum\n",
    "del sf\n",
    "end = time.time()\n",
    "print((end - start), \"Sec\")\n",
    "print((i / (end - start)), \"Hz\")"
   ]
  },
  {
   "cell_type": "code",
   "execution_count": null,
   "metadata": {},
   "outputs": [],
   "source": [
    "fig = plt.figure(figsize=(16,10))\n",
    "ax = fig.add_subplot(111)\n",
    "ax.hist2d(mom, s, bins=500, range=[[0, 3.0], [0, 0.4]])\n",
    "fig.show()"
   ]
  },
  {
   "cell_type": "code",
   "execution_count": null,
   "metadata": {},
   "outputs": [],
   "source": []
  }
 ],
 "metadata": {
  "kernelspec": {
   "display_name": "Python 2",
   "language": "python",
   "name": "python2"
  },
  "language_info": {
   "codemirror_mode": {
    "name": "ipython",
    "version": 2
   },
   "file_extension": ".py",
   "mimetype": "text/x-python",
   "name": "python",
   "nbconvert_exporter": "python",
   "pygments_lexer": "ipython2",
   "version": "2.7.15"
  }
 },
 "nbformat": 4,
 "nbformat_minor": 2
}
